{
 "cells": [
  {
   "cell_type": "code",
   "execution_count": null,
   "metadata": {},
   "outputs": [],
   "source": [
    "! pip install langchain_experimental"
   ]
  },
  {
   "cell_type": "code",
   "execution_count": 13,
   "metadata": {},
   "outputs": [],
   "source": [
    "import os\n",
    "os.environ['DASHSCOPE_API_KEY']=\"sk-***\"\n",
    "import pandas as pd\n",
    "from IPython.display import Markdown, display\n",
    "# from langchain.agents import create_csv_agent\n",
    "from langchain_experimental.agents import create_csv_agent\n",
    "\n",
    "from langchain.chat_models import ChatOpenAI\n",
    "from langchain.llms import OpenAI"
   ]
  },
  {
   "cell_type": "code",
   "execution_count": 9,
   "metadata": {},
   "outputs": [
    {
     "data": {
      "text/html": [
       "<div>\n",
       "<style scoped>\n",
       "    .dataframe tbody tr th:only-of-type {\n",
       "        vertical-align: middle;\n",
       "    }\n",
       "\n",
       "    .dataframe tbody tr th {\n",
       "        vertical-align: top;\n",
       "    }\n",
       "\n",
       "    .dataframe thead th {\n",
       "        text-align: right;\n",
       "    }\n",
       "</style>\n",
       "<table border=\"1\" class=\"dataframe\">\n",
       "  <thead>\n",
       "    <tr style=\"text-align: right;\">\n",
       "      <th></th>\n",
       "      <th>day</th>\n",
       "      <th>month</th>\n",
       "      <th>year</th>\n",
       "      <th>day_of_week</th>\n",
       "      <th>price</th>\n",
       "    </tr>\n",
       "  </thead>\n",
       "  <tbody>\n",
       "    <tr>\n",
       "      <th>0</th>\n",
       "      <td>1</td>\n",
       "      <td>January</td>\n",
       "      <td>2022</td>\n",
       "      <td>Saturday</td>\n",
       "      <td>47450.2</td>\n",
       "    </tr>\n",
       "    <tr>\n",
       "      <th>1</th>\n",
       "      <td>2</td>\n",
       "      <td>January</td>\n",
       "      <td>2022</td>\n",
       "      <td>Sunday</td>\n",
       "      <td>47264.8</td>\n",
       "    </tr>\n",
       "    <tr>\n",
       "      <th>2</th>\n",
       "      <td>3</td>\n",
       "      <td>January</td>\n",
       "      <td>2022</td>\n",
       "      <td>Monday</td>\n",
       "      <td>46222.5</td>\n",
       "    </tr>\n",
       "    <tr>\n",
       "      <th>3</th>\n",
       "      <td>4</td>\n",
       "      <td>January</td>\n",
       "      <td>2022</td>\n",
       "      <td>Tuesday</td>\n",
       "      <td>46155.3</td>\n",
       "    </tr>\n",
       "    <tr>\n",
       "      <th>4</th>\n",
       "      <td>5</td>\n",
       "      <td>January</td>\n",
       "      <td>2022</td>\n",
       "      <td>Wednesday</td>\n",
       "      <td>43439.9</td>\n",
       "    </tr>\n",
       "  </tbody>\n",
       "</table>\n",
       "</div>"
      ],
      "text/plain": [
       "   day    month  year day_of_week    price\n",
       "0    1  January  2022    Saturday  47450.2\n",
       "1    2  January  2022      Sunday  47264.8\n",
       "2    3  January  2022      Monday  46222.5\n",
       "3    4  January  2022     Tuesday  46155.3\n",
       "4    5  January  2022   Wednesday  43439.9"
      ]
     },
     "execution_count": 9,
     "metadata": {},
     "output_type": "execute_result"
    }
   ],
   "source": [
    "# 文件来源: https://drive.google.com/uc?id=1uCSDpM7_oDrUkxKrlUl0_785jh6VW5nG\n",
    "csv_file = './tmp/btc-daily-price.csv'\n",
    "df = pd.read_csv(csv_file)\n",
    "df.head()"
   ]
  },
  {
   "cell_type": "code",
   "execution_count": 10,
   "metadata": {},
   "outputs": [
    {
     "data": {
      "text/html": [
       "<div>\n",
       "<style scoped>\n",
       "    .dataframe tbody tr th:only-of-type {\n",
       "        vertical-align: middle;\n",
       "    }\n",
       "\n",
       "    .dataframe tbody tr th {\n",
       "        vertical-align: top;\n",
       "    }\n",
       "\n",
       "    .dataframe thead th {\n",
       "        text-align: right;\n",
       "    }\n",
       "</style>\n",
       "<table border=\"1\" class=\"dataframe\">\n",
       "  <thead>\n",
       "    <tr style=\"text-align: right;\">\n",
       "      <th></th>\n",
       "      <th>day</th>\n",
       "      <th>month</th>\n",
       "      <th>year</th>\n",
       "      <th>day_of_week</th>\n",
       "      <th>price</th>\n",
       "    </tr>\n",
       "  </thead>\n",
       "  <tbody>\n",
       "    <tr>\n",
       "      <th>453</th>\n",
       "      <td>30</td>\n",
       "      <td>March</td>\n",
       "      <td>2023</td>\n",
       "      <td>Thursday</td>\n",
       "      <td>28076.4</td>\n",
       "    </tr>\n",
       "    <tr>\n",
       "      <th>454</th>\n",
       "      <td>31</td>\n",
       "      <td>March</td>\n",
       "      <td>2023</td>\n",
       "      <td>Friday</td>\n",
       "      <td>28482.9</td>\n",
       "    </tr>\n",
       "    <tr>\n",
       "      <th>455</th>\n",
       "      <td>1</td>\n",
       "      <td>April</td>\n",
       "      <td>2023</td>\n",
       "      <td>Saturday</td>\n",
       "      <td>28488.0</td>\n",
       "    </tr>\n",
       "    <tr>\n",
       "      <th>456</th>\n",
       "      <td>2</td>\n",
       "      <td>April</td>\n",
       "      <td>2023</td>\n",
       "      <td>Sunday</td>\n",
       "      <td>28032.2</td>\n",
       "    </tr>\n",
       "    <tr>\n",
       "      <th>457</th>\n",
       "      <td>3</td>\n",
       "      <td>April</td>\n",
       "      <td>2023</td>\n",
       "      <td>Monday</td>\n",
       "      <td>27720.8</td>\n",
       "    </tr>\n",
       "  </tbody>\n",
       "</table>\n",
       "</div>"
      ],
      "text/plain": [
       "     day  month  year day_of_week    price\n",
       "453   30  March  2023    Thursday  28076.4\n",
       "454   31  March  2023      Friday  28482.9\n",
       "455    1  April  2023    Saturday  28488.0\n",
       "456    2  April  2023      Sunday  28032.2\n",
       "457    3  April  2023      Monday  27720.8"
      ]
     },
     "execution_count": 10,
     "metadata": {},
     "output_type": "execute_result"
    }
   ],
   "source": [
    "df.tail()"
   ]
  },
  {
   "cell_type": "code",
   "execution_count": 11,
   "metadata": {},
   "outputs": [
    {
     "data": {
      "text/plain": [
       "(458, 5)"
      ]
     },
     "execution_count": 11,
     "metadata": {},
     "output_type": "execute_result"
    }
   ],
   "source": [
    "df.shape"
   ]
  },
  {
   "cell_type": "code",
   "execution_count": 39,
   "metadata": {},
   "outputs": [],
   "source": [
    "\n",
    "# from langchain_openai import ChatOpenAI\n",
    "chat = ChatOpenAI(\n",
    "    model='qwen-plus-latest',\n",
    "    openai_api_key=os.getenv(\"DASHSCOPE_API_KEY\"),\n",
    "    openai_api_base='https://dashscope.aliyuncs.com/compatible-mode/v1',\n",
    "    # max_tokens=1024\n",
    ")\n",
    "\n",
    "\n",
    "agent = create_csv_agent(chat, csv_file, verbose=True,allow_dangerous_code=True)\n"
   ]
  },
  {
   "cell_type": "code",
   "execution_count": 40,
   "metadata": {},
   "outputs": [
    {
     "data": {
      "text/plain": [
       "AgentExecutor(verbose=True, agent=RunnableAgent(runnable=RunnableAssign(mapper={\n",
       "  agent_scratchpad: RunnableLambda(lambda x: format_log_to_str(x['intermediate_steps']))\n",
       "})\n",
       "| PromptTemplate(input_variables=['agent_scratchpad', 'input'], input_types={}, partial_variables={'df_head': '|    |   day | month   |   year | day_of_week   |   price |\\n|---:|------:|:--------|-------:|:--------------|--------:|\\n|  0 |     1 | January |   2022 | Saturday      | 47450.2 |\\n|  1 |     2 | January |   2022 | Sunday        | 47264.8 |\\n|  2 |     3 | January |   2022 | Monday        | 46222.5 |\\n|  3 |     4 | January |   2022 | Tuesday       | 46155.3 |\\n|  4 |     5 | January |   2022 | Wednesday     | 43439.9 |', 'tools': 'python_repl_ast - A Python shell. Use this to execute python commands. Input should be a valid python command. When using this tool, sometimes output is abbreviated - make sure it does not look abbreviated before using it in your answer.', 'tool_names': 'python_repl_ast'}, template='\\nYou are working with a pandas dataframe in Python. The name of the dataframe is `df`.\\nYou should use the tools below to answer the question posed of you:\\n\\n{tools}\\n\\nUse the following format:\\n\\nQuestion: the input question you must answer\\nThought: you should always think about what to do\\nAction: the action to take, should be one of [{tool_names}]\\nAction Input: the input to the action\\nObservation: the result of the action\\n... (this Thought/Action/Action Input/Observation can repeat N times)\\nThought: I now know the final answer\\nFinal Answer: the final answer to the original input question\\n\\n\\nThis is the result of `print(df.head())`:\\n{df_head}\\n\\nBegin!\\nQuestion: {input}\\n{agent_scratchpad}')\n",
       "| RunnableBinding(bound=ChatOpenAI(client=<openai.resources.chat.completions.Completions object at 0x00000205F0785010>, async_client=<openai.resources.chat.completions.AsyncCompletions object at 0x00000205F08396D0>, model_name='qwen-plus-latest', model_kwargs={}, openai_api_key='sk-363db7ba09d849439fcef53db20fd224', openai_api_base='https://dashscope.aliyuncs.com/compatible-mode/v1', openai_proxy=''), kwargs={'stop': ['\\nObservation']}, config={}, config_factories=[])\n",
       "| ReActSingleInputOutputParser(), input_keys_arg=['input'], return_keys_arg=['output'], stream_runnable=True), tools=[PythonAstREPLTool(globals={}, locals={'df':      day    month  year day_of_week    price\n",
       "0      1  January  2022    Saturday  47450.2\n",
       "1      2  January  2022      Sunday  47264.8\n",
       "2      3  January  2022      Monday  46222.5\n",
       "3      4  January  2022     Tuesday  46155.3\n",
       "4      5  January  2022   Wednesday  43439.9\n",
       "..   ...      ...   ...         ...      ...\n",
       "453   30    March  2023    Thursday  28076.4\n",
       "454   31    March  2023      Friday  28482.9\n",
       "455    1    April  2023    Saturday  28488.0\n",
       "456    2    April  2023      Sunday  28032.2\n",
       "457    3    April  2023      Monday  27720.8\n",
       "\n",
       "[458 rows x 5 columns]})])"
      ]
     },
     "execution_count": 40,
     "metadata": {},
     "output_type": "execute_result"
    }
   ],
   "source": [
    "agent"
   ]
  },
  {
   "cell_type": "code",
   "execution_count": 44,
   "metadata": {},
   "outputs": [
    {
     "name": "stdout",
     "output_type": "stream",
     "text": [
      "\n",
      "\n",
      "\u001b[1m> Entering new AgentExecutor chain...\u001b[0m\n",
      "\u001b[32;1m\u001b[1;3mThought: 我需要计算2022年和2023年的平均价格，然后根据这两个值计算增长率。为此，我需要分别筛选出这两年的数据，并计算每年的平均价格。\n",
      "Action: python_repl_ast\n",
      "Action Input: df_2022 = df[df['year'] == 2022]; price_2022_avg = df_2022['price'].mean(); price_2022_avg\u001b[0m\u001b[36;1m\u001b[1;3m28199.72273972603\u001b[0m\u001b[32;1m\u001b[1;3m2022年的平均价格是28199.72。接下来，我需要计算2023年的平均价格。\n",
      "Action: python_repl_ast\n",
      "Action Input: df_2023 = df[df['year'] == 2023]; price_2023_avg = df_2023['price'].mean(); price_2023_avg\u001b[0m\u001b[36;1m\u001b[1;3m23035.001075268814\u001b[0m\u001b[32;1m\u001b[1;3m2023年的平均价格是23035.00。现在我有了2022年和2023年的平均价格，我可以计算增长率。\n",
      "Action: python_repl_ast\n",
      "Action Input: growth_rate = ((price_2023_avg - price_2022_avg) / price_2022_avg) * 100; growth_rate\u001b[0m\u001b[36;1m\u001b[1;3m-18.31479590110109\u001b[0m\u001b[32;1m\u001b[1;3m我计算出了从2022年到2023年的增长率。\n",
      "Final Answer: 从2022年到2023年的增长率为-18.31%。这意味着价格在这段时间内下降了约18.31%。\u001b[0m\n",
      "\n",
      "\u001b[1m> Finished chain.\u001b[0m\n"
     ]
    },
    {
     "data": {
      "text/plain": [
       "'从2022年到2023年的增长率为-18.31%。这意味着价格在这段时间内下降了约18.31%。'"
      ]
     },
     "execution_count": 44,
     "metadata": {},
     "output_type": "execute_result"
    }
   ],
   "source": [
    "agent.run(\"从2022年到2023年，增长率是多少?\") #What is the % increase from 2022 to 2023?"
   ]
  }
 ],
 "metadata": {
  "kernelspec": {
   "display_name": "venv",
   "language": "python",
   "name": "python3"
  },
  "language_info": {
   "codemirror_mode": {
    "name": "ipython",
    "version": 3
   },
   "file_extension": ".py",
   "mimetype": "text/x-python",
   "name": "python",
   "nbconvert_exporter": "python",
   "pygments_lexer": "ipython3",
   "version": "3.13.1"
  }
 },
 "nbformat": 4,
 "nbformat_minor": 2
}
